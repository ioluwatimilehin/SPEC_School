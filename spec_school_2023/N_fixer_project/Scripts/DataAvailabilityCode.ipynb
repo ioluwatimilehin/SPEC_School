{
 "cells": [
  {
   "cell_type": "code",
   "execution_count": 1,
   "id": "b0211cf4",
   "metadata": {},
   "outputs": [],
   "source": [
    "import os\n",
    "import requests\n",
    "import json\n",
    "import itertools"
   ]
  },
  {
   "cell_type": "markdown",
   "id": "538bd5d4",
   "metadata": {},
   "source": [
    "## Used Neon Tutorial to create this script. Info can be found here:\n",
    "https://www.neonscience.org/resources/learning-hub/tutorials/neon-utilities-python"
   ]
  },
  {
   "cell_type": "code",
   "execution_count": 2,
   "id": "07d82149",
   "metadata": {},
   "outputs": [],
   "source": [
    "SERVER = 'http://data.neonscience.org/api/v0/'###where the data is housed"
   ]
  },
  {
   "cell_type": "code",
   "execution_count": 3,
   "id": "9b3aee94",
   "metadata": {},
   "outputs": [],
   "source": [
    "MLBSData = 'MLBS' ### Site name (Change to site you want)"
   ]
  },
  {
   "cell_type": "code",
   "execution_count": 4,
   "id": "25376aee",
   "metadata": {},
   "outputs": [
    {
     "name": "stdout",
     "output_type": "stream",
     "text": [
      "http://data.neonscience.org/api/v0/sites/MLBS\n"
     ]
    }
   ],
   "source": [
    "url = SERVER+'sites/'+MLBSData ### getting the URL\n",
    "print(url)"
   ]
  },
  {
   "cell_type": "code",
   "execution_count": 5,
   "id": "07f1de0d",
   "metadata": {},
   "outputs": [],
   "source": [
    "#Request the url\n",
    "site_request = requests.get(url)\n",
    "\n",
    "#Convert the request to Python JSON object\n",
    "site_json = site_request.json()"
   ]
  },
  {
   "cell_type": "code",
   "execution_count": 6,
   "id": "36fa1889",
   "metadata": {},
   "outputs": [
    {
     "data": {
      "text/plain": [
       "dict_keys(['data'])"
      ]
     },
     "execution_count": 6,
     "metadata": {},
     "output_type": "execute_result"
    }
   ],
   "source": [
    "site_json.keys() ###shows what data is available in folder"
   ]
  },
  {
   "cell_type": "code",
   "execution_count": 7,
   "id": "827c2005",
   "metadata": {},
   "outputs": [
    {
     "data": {
      "text/plain": [
       "dict_keys(['siteCode', 'siteName', 'siteDescription', 'siteType', 'siteLatitude', 'siteLongitude', 'stateCode', 'stateName', 'domainCode', 'domainName', 'deimsId', 'releases', 'dataProducts'])"
      ]
     },
     "execution_count": 7,
     "metadata": {},
     "output_type": "execute_result"
    }
   ],
   "source": [
    "site_json['data'].keys() #### available data in keys"
   ]
  },
  {
   "cell_type": "code",
   "execution_count": 8,
   "id": "166402ee",
   "metadata": {
    "scrolled": true
   },
   "outputs": [
    {
     "name": "stdout",
     "output_type": "stream",
     "text": [
      "DP1.00001.001 2D wind speed and direction\n",
      "DP1.00002.001 Single aspirated air temperature\n",
      "DP1.00003.001 Triple aspirated air temperature\n",
      "DP1.00004.001 Barometric pressure\n",
      "DP1.00005.001 IR biological temperature\n",
      "DP1.00006.001 Precipitation\n",
      "DP1.00013.001 Wet deposition chemical analysis\n",
      "DP1.00014.001 Shortwave radiation (direct and diffuse pyranometer)\n",
      "DP1.00023.001 Shortwave and longwave radiation (net radiometer)\n",
      "DP1.00024.001 Photosynthetically active radiation (PAR)\n",
      "DP1.00033.001 Phenology images\n",
      "DP1.00038.001 Stable isotopes in precipitation\n",
      "DP1.00040.001 Soil heat flux plate\n",
      "DP1.00041.001 Soil temperature\n",
      "DP1.00042.001 Snow depth and understory phenology images\n",
      "DP1.00043.001 Spectral sun photometer - calibrated sky radiances\n",
      "DP1.00066.001 Photosynthetically active radiation (quantum line)\n",
      "DP1.00094.001 Soil water content and water salinity\n",
      "DP1.00095.001 Soil CO2 concentration\n",
      "DP1.00096.001 Soil physical and chemical properties, Megapit\n",
      "DP1.00098.001 Relative humidity\n",
      "DP1.10003.001 Breeding landbird point counts\n",
      "DP1.10010.001 Coarse downed wood log survey\n",
      "DP1.10014.001 Coarse downed wood bulk density sampling\n",
      "DP1.10017.001 Digital hemispheric photos of plot vegetation\n",
      "DP1.10020.001 Ground beetle sequences DNA barcode\n",
      "DP1.10022.001 Ground beetles sampled from pitfall traps\n",
      "DP1.10023.001 Herbaceous clip harvest\n",
      "DP1.10026.001 Plant foliar traits\n",
      "DP1.10033.001 Litterfall and fine woody debris production and chemistry\n",
      "DP1.10038.001 Mosquito sequences DNA barcode\n",
      "DP1.10043.001 Mosquitoes sampled from CO2 traps\n",
      "DP1.10047.001 Soil physical and chemical properties, distributed initial characterization\n",
      "DP1.10055.001 Plant phenology observations\n",
      "DP1.10058.001 Plant presence and percent cover\n",
      "DP1.10064.001 Rodent pathogen status, hantavirus\n",
      "DP1.10064.002 Rodent pathogen status, tick-borne\n",
      "DP1.10066.001 Root biomass and chemistry, Megapit\n",
      "DP1.10067.001 Root biomass and chemistry, periodic\n",
      "DP1.10072.001 Small mammal box trapping\n",
      "DP1.10076.001 Small mammal sequences DNA barcode\n",
      "DP1.10081.001 Soil microbe community composition\n",
      "DP1.10086.001 Soil physical and chemical properties, periodic\n",
      "DP1.10092.001 Tick pathogen status\n",
      "DP1.10093.001 Ticks sampled using drag cloths\n",
      "DP1.10098.001 Vegetation structure\n",
      "DP1.10104.001 Soil microbe biomass\n",
      "DP1.10107.001 Soil microbe metagenome sequences\n",
      "DP1.10108.001 Soil microbe marker gene sequences\n",
      "DP1.10109.001 Soil microbe group abundances\n",
      "DP1.10111.001 Site management and event reporting\n",
      "DP1.30001.001 LiDAR slant range waveform\n",
      "DP1.30003.001 Discrete return LiDAR point cloud\n",
      "DP1.30006.001 Spectrometer orthorectified surface directional reflectance - flightline\n",
      "DP1.30008.001 Spectrometer orthrorectified at-sensor radiance - flightline\n",
      "DP1.30010.001 High-resolution orthorectified camera imagery\n",
      "DP2.30011.001 Albedo - spectrometer - flightline\n",
      "DP2.30012.001 LAI - spectrometer - flightline\n",
      "DP2.30014.001 fPAR - spectrometer - flightline\n",
      "DP2.30019.001 Canopy water indices - flightline\n",
      "DP2.30026.001 Vegetation indices - spectrometer - flightline\n",
      "DP3.30006.001 Spectrometer orthorectified surface directional reflectance - mosaic\n",
      "DP3.30010.001 High-resolution orthorectified camera imagery mosaic\n",
      "DP3.30011.001 Albedo - spectrometer - mosaic\n",
      "DP3.30012.001 LAI - spectrometer - mosaic\n",
      "DP3.30014.001 fPAR - spectrometer - mosaic\n",
      "DP3.30015.001 Ecosystem structure\n",
      "DP3.30019.001 Canopy water indices - mosaic\n",
      "DP3.30024.001 Elevation - LiDAR\n",
      "DP3.30025.001 Slope and Aspect - LiDAR\n",
      "DP3.30026.001 Vegetation indices - spectrometer - mosaic\n",
      "DP4.00200.001 Bundled data products - eddy covariance\n"
     ]
    }
   ],
   "source": [
    "#View product code and name for every available data product\n",
    "for product in site_json['data']['dataProducts']:\n",
    "    print(product['dataProductCode'],product['dataProductTitle'])"
   ]
  },
  {
   "cell_type": "code",
   "execution_count": 9,
   "id": "91074a1d",
   "metadata": {},
   "outputs": [],
   "source": [
    "EcosystemStructure = 'DP3.30026.001'\n",
    "NeonVegetationStructure = 'DP1.10098.001'\n",
    "NeonLiDAR='DP1.30003.001'\n",
    "Potential_hyperspec = 'DP1.30006.001'\n",
    "HemisphericPhotos = 'DP1.10017.001'"
   ]
  },
  {
   "cell_type": "code",
   "execution_count": 10,
   "id": "dd3a57c4",
   "metadata": {},
   "outputs": [
    {
     "name": "stdout",
     "output_type": "stream",
     "text": [
      "Available Months:  ['2017-08', '2017-09', '2017-10', '2018-04', '2018-05', '2018-06', '2018-07', '2018-08', '2018-09', '2018-10', '2019-04', '2019-05', '2019-06', '2019-07', '2019-08', '2019-09', '2019-10', '2020-04', '2020-05', '2020-06', '2020-07', '2020-08', '2020-09', '2020-10', '2021-04', '2021-05', '2021-06', '2021-07', '2021-08', '2021-09', '2021-10', '2021-11', '2022-04', '2022-05', '2022-06', '2022-07', '2022-08', '2022-09', '2022-10', '2022-11']\n",
      "URLs for each Month:\n",
      "https://data.neonscience.org/api/v0/data/DP1.10017.001/MLBS/2017-08\n",
      "https://data.neonscience.org/api/v0/data/DP1.10017.001/MLBS/2017-09\n",
      "https://data.neonscience.org/api/v0/data/DP1.10017.001/MLBS/2017-10\n",
      "https://data.neonscience.org/api/v0/data/DP1.10017.001/MLBS/2018-04\n",
      "https://data.neonscience.org/api/v0/data/DP1.10017.001/MLBS/2018-05\n",
      "https://data.neonscience.org/api/v0/data/DP1.10017.001/MLBS/2018-06\n",
      "https://data.neonscience.org/api/v0/data/DP1.10017.001/MLBS/2018-07\n",
      "https://data.neonscience.org/api/v0/data/DP1.10017.001/MLBS/2018-08\n",
      "https://data.neonscience.org/api/v0/data/DP1.10017.001/MLBS/2018-09\n",
      "https://data.neonscience.org/api/v0/data/DP1.10017.001/MLBS/2018-10\n",
      "https://data.neonscience.org/api/v0/data/DP1.10017.001/MLBS/2019-04\n",
      "https://data.neonscience.org/api/v0/data/DP1.10017.001/MLBS/2019-05\n",
      "https://data.neonscience.org/api/v0/data/DP1.10017.001/MLBS/2019-06\n",
      "https://data.neonscience.org/api/v0/data/DP1.10017.001/MLBS/2019-07\n",
      "https://data.neonscience.org/api/v0/data/DP1.10017.001/MLBS/2019-08\n",
      "https://data.neonscience.org/api/v0/data/DP1.10017.001/MLBS/2019-09\n",
      "https://data.neonscience.org/api/v0/data/DP1.10017.001/MLBS/2019-10\n",
      "https://data.neonscience.org/api/v0/data/DP1.10017.001/MLBS/2020-04\n",
      "https://data.neonscience.org/api/v0/data/DP1.10017.001/MLBS/2020-05\n",
      "https://data.neonscience.org/api/v0/data/DP1.10017.001/MLBS/2020-06\n",
      "https://data.neonscience.org/api/v0/data/DP1.10017.001/MLBS/2020-07\n",
      "https://data.neonscience.org/api/v0/data/DP1.10017.001/MLBS/2020-08\n",
      "https://data.neonscience.org/api/v0/data/DP1.10017.001/MLBS/2020-09\n",
      "https://data.neonscience.org/api/v0/data/DP1.10017.001/MLBS/2020-10\n",
      "https://data.neonscience.org/api/v0/data/DP1.10017.001/MLBS/2021-04\n",
      "https://data.neonscience.org/api/v0/data/DP1.10017.001/MLBS/2021-05\n",
      "https://data.neonscience.org/api/v0/data/DP1.10017.001/MLBS/2021-06\n",
      "https://data.neonscience.org/api/v0/data/DP1.10017.001/MLBS/2021-07\n",
      "https://data.neonscience.org/api/v0/data/DP1.10017.001/MLBS/2021-08\n",
      "https://data.neonscience.org/api/v0/data/DP1.10017.001/MLBS/2021-09\n",
      "https://data.neonscience.org/api/v0/data/DP1.10017.001/MLBS/2021-10\n",
      "https://data.neonscience.org/api/v0/data/DP1.10017.001/MLBS/2021-11\n",
      "https://data.neonscience.org/api/v0/data/DP1.10017.001/MLBS/2022-04\n",
      "https://data.neonscience.org/api/v0/data/DP1.10017.001/MLBS/2022-05\n",
      "https://data.neonscience.org/api/v0/data/DP1.10017.001/MLBS/2022-06\n",
      "https://data.neonscience.org/api/v0/data/DP1.10017.001/MLBS/2022-07\n",
      "https://data.neonscience.org/api/v0/data/DP1.10017.001/MLBS/2022-08\n",
      "https://data.neonscience.org/api/v0/data/DP1.10017.001/MLBS/2022-09\n",
      "https://data.neonscience.org/api/v0/data/DP1.10017.001/MLBS/2022-10\n",
      "https://data.neonscience.org/api/v0/data/DP1.10017.001/MLBS/2022-11\n"
     ]
    }
   ],
   "source": [
    "#######gives you available months for the data\n",
    "\n",
    "for product in site_json['data']['dataProducts']: \n",
    "    #if a list item's 'dataProductCode' dict element equals the product code string\n",
    "    if(product['dataProductCode'] == HemisphericPhotos): ########## change this to what data we want\n",
    "        #print the available months\n",
    "        print('Available Months: ',product['availableMonths'])\n",
    "        print('URLs for each Month:')\n",
    "        #print the available URLs\n",
    "        for url in product['availableDataUrls']:\n",
    "            print(url)\n",
    "            data_url=url"
   ]
  },
  {
   "cell_type": "code",
   "execution_count": 11,
   "id": "432808da",
   "metadata": {},
   "outputs": [
    {
     "name": "stdout",
     "output_type": "stream",
     "text": [
      "http://data.neonscience.org/api/v0/products/DP1.30006.001\n"
     ]
    }
   ],
   "source": [
    "#Make request\n",
    "product_request = requests.get(SERVER+'products/'+Potential_hyperspec)######### change this to data product\n",
    "product_json = product_request.json()\n",
    "print(SERVER+'products/'+Potential_hyperspec)######## change this to data product"
   ]
  },
  {
   "cell_type": "code",
   "execution_count": 12,
   "id": "bf176616",
   "metadata": {},
   "outputs": [
    {
     "name": "stdout",
     "output_type": "stream",
     "text": [
      "DP1.30006.001\n",
      "Spectrometer orthorectified surface directional reflectance - flightline \n",
      "\n",
      "The NEON AOP surface directional reflectance data product is an orthorectified (UTM projection) hyperspectral raster product. It is distributed in an open HDF5 format including all 426 bands from the NEON Imaging Spectrometer. It is a calibrated and atmospherically corrected product distributed as scaled reflectance. It includes many QA and ancillary rasters used as inputs to ATCOR for atmospheric correction as well as outputs from ATCOR for diagnostic purposes. L1 reflectance is distributed by original flight line with one HDF5 file per flight line including the reflectance data and all metadata and ancillary data.\n",
      "\n",
      "Latency:\n",
      "AOP data will be available 60 days after the final collection day at a site.\n"
     ]
    }
   ],
   "source": [
    "print(product_json['data']['productCode'])\n",
    "print(product_json['data']['productName'],'\\n')\n",
    "print(product_json['data']['productAbstract'])"
   ]
  },
  {
   "cell_type": "code",
   "execution_count": 13,
   "id": "779a9867",
   "metadata": {},
   "outputs": [
    {
     "name": "stdout",
     "output_type": "stream",
     "text": [
      "<Response [200]>\n",
      "http://data.neonscience.org/api/v0/data/DP1.30006.001/MLBS/2017-08\n"
     ]
    }
   ],
   "source": [
    "#Make Request\n",
    "data_request = requests.get(SERVER+'data/'+Potential_hyperspec+'/'+MLBSData+'/'+'2017-08')######change data product and date\n",
    "print(str(data_request))\n",
    "data_json = data_request.json()\n",
    "print(SERVER+'data/'+Potential_hyperspec+'/'+MLBSData+'/'+'2017-08')######change data product and date"
   ]
  },
  {
   "cell_type": "code",
   "execution_count": null,
   "id": "2fd0fd2f",
   "metadata": {},
   "outputs": [],
   "source": [
    "#Make request with saved url\n",
    "#data_request = requests.get(data_url)\n",
    "#data_json = data_request.json()"
   ]
  },
  {
   "cell_type": "code",
   "execution_count": 14,
   "id": "8996b848",
   "metadata": {},
   "outputs": [
    {
     "name": "stdout",
     "output_type": "stream",
     "text": [
      "dict_keys(['productCode', 'siteCode', 'month', 'release', 'packages', 'files'])\n"
     ]
    }
   ],
   "source": [
    "print(data_json['data'].keys())"
   ]
  },
  {
   "cell_type": "code",
   "execution_count": 15,
   "id": "672d07bf",
   "metadata": {},
   "outputs": [
    {
     "name": "stdout",
     "output_type": "stream",
     "text": [
      "NEON.D07.MLBS.DP1.30006.001.readme.20230127T120753Z.txt\n",
      "NEON_D07_MLBS_DP1_20170805_184515_reflectance.h5\n",
      "NEON_D07_MLBS_DP1_20170805_180446_reflectance.h5\n",
      "NEON_D07_MLBS_DP1QA_20170805_192709_RGB_Reflectance.tif\n",
      "NEON_D07_MLBS_DP1_20170805_191335_reflectance.h5\n",
      "NEON_D07_MLBS_DP1_20170805_181126_reflectance.h5\n",
      "NEON_D07_MLBS_DP1_20170805_200438_reflectance.h5\n",
      "20170805_202516_hsi_kml_0000.kml\n",
      "NEON_D07_MLBS_DP1QA_20170805_191335_RGB_Reflectance.tif\n",
      "NEON_D07_MLBS_DP1QA_20170805_182451_RGB_Reflectance.tif\n",
      "NEON_D07_MLBS_DP1_20170805_193520_reflectance.h5\n",
      "20170805_192039_hsi_kml_0000.kml\n",
      "20170805_194936_hsi_kml_0000.kml\n",
      "NEON_D07_MLBS_DP1_20170805_192709_reflectance.h5\n",
      "NEON_D07_MLBS_DP1_20170805_204551_reflectance.h5\n",
      "NEON_D07_MLBS_DP1QA_20170805_185153_RGB_Reflectance.tif\n",
      "20170805_184515_hsi_kml_0000.kml\n",
      "NEON_D07_MLBS_DP1QA_20170805_181126_RGB_Reflectance.tif\n",
      "20170805_192709_hsi_kml_0000.kml\n",
      "NEON_D07_MLBS_DP1QA_20170805_202516_RGB_Reflectance.tif\n",
      "20170805_181126_hsi_kml_0000.kml\n",
      "20170805_183834_hsi_kml_0000.kml\n",
      "20170805_183147_hsi_kml_0000.kml\n",
      "NEON_D07_MLBS_DP1QA_20170805_203222_RGB_Reflectance.tif\n",
      "NEON_D07_MLBS_DP1QA_20170805_192039_RGB_Reflectance.tif\n",
      "20170805_200438_hsi_kml_0000.kml\n",
      "20170805_185153_hsi_kml_0000.kml\n",
      "NEON_D07_MLBS_DP1_20170805_183834_reflectance.h5\n",
      "NEON_D07_MLBS_DP1_20170805_203834_reflectance.h5\n",
      "NEON_D07_MLBS_DP1QA_20170805_184515_RGB_Reflectance.tif\n",
      "20170805_191335_hsi_kml_0000.kml\n",
      "NEON_D07_MLBS_DP1QA_20170805_203834_RGB_Reflectance.tif\n",
      "NEON_D07_MLBS_DP1QA_20170805_204551_RGB_Reflectance.tif\n",
      "NEON_D07_MLBS_DP1QA_20170805_183834_RGB_Reflectance.tif\n",
      "NEON_D07_MLBS_DP1_20170805_194200_reflectance.h5\n",
      "20170805_193520_hsi_kml_0000.kml\n",
      "NEON_D07_MLBS_DP1QA_20170805_181807_RGB_Reflectance.tif\n",
      "20170805_185806_hsi_kml_0000.kml\n",
      "NEON_D07_MLBS_DP1_20170805_195624_reflectance.h5\n",
      "NEON_D07_MLBS_DP1QA_20170805_185806_RGB_Reflectance.tif\n",
      "NEON_D07_MLBS_DP1QA_20170805_195624_RGB_Reflectance.tif\n",
      "NEON_D07_MLBS_DP1_20170805_202516_reflectance.h5\n",
      "20170805_201840_hsi_kml_0000.kml\n",
      "20170805_190655_hsi_kml_0000.kml\n",
      "NEON_D07_MLBS_DP1QA_20170805_183147_RGB_Reflectance.tif\n",
      "MLBS_L2_spectrometer_processing.pdf\n",
      "NEON_D07_MLBS_DP1QA_20170805_180446_RGB_Reflectance.tif\n",
      "NEON_D07_MLBS_DP1QA_20170805_201840_RGB_Reflectance.tif\n",
      "NEON_D07_MLBS_DP1QA_20170805_200438_RGB_Reflectance.tif\n",
      "20170805_203222_hsi_kml_0000.kml\n",
      "NEON_D07_MLBS_DP1_20170805_181807_reflectance.h5\n",
      "NEON_D07_MLBS_DP1QA_20170805_193520_RGB_Reflectance.tif\n",
      "20170805_201135_hsi_kml_0000.kml\n",
      "20170805_203834_hsi_kml_0000.kml\n",
      "NEON_D07_MLBS_DP1_20170805_182451_reflectance.h5\n",
      "20170805_180446_hsi_kml_0000.kml\n",
      "NEON_D07_MLBS_DP1QA_20170805_190655_RGB_Reflectance.tif\n",
      "NEON_D07_MLBS_DP1_20170805_194936_reflectance.h5\n",
      "NEON_D07_MLBS_DP1_20170805_183147_reflectance.h5\n",
      "NEON_D07_MLBS_DP1QA_20170805_194200_RGB_Reflectance.tif\n",
      "NEON_D07_MLBS_DP1_20170805_190655_reflectance.h5\n",
      "NEON_D07_MLBS_DP1_20170805_185806_reflectance.h5\n",
      "NEON_D07_MLBS_DP1QA_20170805_194936_RGB_Reflectance.tif\n",
      "NEON_D07_MLBS_DP1_20170805_185153_reflectance.h5\n",
      "20170805_195624_hsi_kml_0000.kml\n",
      "20170805_204551_hsi_kml_0000.kml\n",
      "20170805_181807_hsi_kml_0000.kml\n",
      "NEON_D07_MLBS_DP1_20170805_201840_reflectance.h5\n",
      "NEON_D07_MLBS_DP1_20170805_203222_reflectance.h5\n",
      "NEON_D07_MLBS_DP1_20170805_201135_reflectance.h5\n",
      "NEON_D07_MLBS_DP1QA_20170805_201135_RGB_Reflectance.tif\n",
      "20170805_182451_hsi_kml_0000.kml\n",
      "20170805_194200_hsi_kml_0000.kml\n",
      "NEON_D07_MLBS_DP1_20170805_192039_reflectance.h5\n",
      "2017_MLBS_2_MLBS_L3_spectrometer_processing.pdf\n"
     ]
    }
   ],
   "source": [
    "####### displays all files in data product\n",
    "for file in data_json['data']['files']:\n",
    "    print(file['name'])"
   ]
  },
  {
   "cell_type": "code",
   "execution_count": 16,
   "id": "f0c162ba",
   "metadata": {},
   "outputs": [
    {
     "name": "stdout",
     "output_type": "stream",
     "text": [
      "NEON_D07_MLBS_DP1_20170805_184515_reflectance.h5\n",
      "https://storage.googleapis.com/neon-aop-products/2017/FullSite/D07/2017_MLBS_2/L1/Spectrometer/ReflectanceH5/2017080516/NEON_D07_MLBS_DP1_20170805_184515_reflectance.h5\n",
      "NEON_D07_MLBS_DP1_20170805_180446_reflectance.h5\n",
      "https://storage.googleapis.com/neon-aop-products/2017/FullSite/D07/2017_MLBS_2/L1/Spectrometer/ReflectanceH5/2017080516/NEON_D07_MLBS_DP1_20170805_180446_reflectance.h5\n",
      "NEON_D07_MLBS_DP1_20170805_191335_reflectance.h5\n",
      "https://storage.googleapis.com/neon-aop-products/2017/FullSite/D07/2017_MLBS_2/L1/Spectrometer/ReflectanceH5/2017080516/NEON_D07_MLBS_DP1_20170805_191335_reflectance.h5\n",
      "NEON_D07_MLBS_DP1_20170805_181126_reflectance.h5\n",
      "https://storage.googleapis.com/neon-aop-products/2017/FullSite/D07/2017_MLBS_2/L1/Spectrometer/ReflectanceH5/2017080516/NEON_D07_MLBS_DP1_20170805_181126_reflectance.h5\n",
      "NEON_D07_MLBS_DP1_20170805_200438_reflectance.h5\n",
      "https://storage.googleapis.com/neon-aop-products/2017/FullSite/D07/2017_MLBS_2/L1/Spectrometer/ReflectanceH5/2017080516/NEON_D07_MLBS_DP1_20170805_200438_reflectance.h5\n",
      "NEON_D07_MLBS_DP1_20170805_193520_reflectance.h5\n",
      "https://storage.googleapis.com/neon-aop-products/2017/FullSite/D07/2017_MLBS_2/L1/Spectrometer/ReflectanceH5/2017080516/NEON_D07_MLBS_DP1_20170805_193520_reflectance.h5\n",
      "NEON_D07_MLBS_DP1_20170805_192709_reflectance.h5\n",
      "https://storage.googleapis.com/neon-aop-products/2017/FullSite/D07/2017_MLBS_2/L1/Spectrometer/ReflectanceH5/2017080516/NEON_D07_MLBS_DP1_20170805_192709_reflectance.h5\n",
      "NEON_D07_MLBS_DP1_20170805_204551_reflectance.h5\n",
      "https://storage.googleapis.com/neon-aop-products/2017/FullSite/D07/2017_MLBS_2/L1/Spectrometer/ReflectanceH5/2017080516/NEON_D07_MLBS_DP1_20170805_204551_reflectance.h5\n",
      "NEON_D07_MLBS_DP1_20170805_183834_reflectance.h5\n",
      "https://storage.googleapis.com/neon-aop-products/2017/FullSite/D07/2017_MLBS_2/L1/Spectrometer/ReflectanceH5/2017080516/NEON_D07_MLBS_DP1_20170805_183834_reflectance.h5\n",
      "NEON_D07_MLBS_DP1_20170805_203834_reflectance.h5\n",
      "https://storage.googleapis.com/neon-aop-products/2017/FullSite/D07/2017_MLBS_2/L1/Spectrometer/ReflectanceH5/2017080516/NEON_D07_MLBS_DP1_20170805_203834_reflectance.h5\n",
      "NEON_D07_MLBS_DP1_20170805_194200_reflectance.h5\n",
      "https://storage.googleapis.com/neon-aop-products/2017/FullSite/D07/2017_MLBS_2/L1/Spectrometer/ReflectanceH5/2017080516/NEON_D07_MLBS_DP1_20170805_194200_reflectance.h5\n",
      "NEON_D07_MLBS_DP1_20170805_195624_reflectance.h5\n",
      "https://storage.googleapis.com/neon-aop-products/2017/FullSite/D07/2017_MLBS_2/L1/Spectrometer/ReflectanceH5/2017080516/NEON_D07_MLBS_DP1_20170805_195624_reflectance.h5\n",
      "NEON_D07_MLBS_DP1_20170805_202516_reflectance.h5\n",
      "https://storage.googleapis.com/neon-aop-products/2017/FullSite/D07/2017_MLBS_2/L1/Spectrometer/ReflectanceH5/2017080516/NEON_D07_MLBS_DP1_20170805_202516_reflectance.h5\n",
      "NEON_D07_MLBS_DP1_20170805_181807_reflectance.h5\n",
      "https://storage.googleapis.com/neon-aop-products/2017/FullSite/D07/2017_MLBS_2/L1/Spectrometer/ReflectanceH5/2017080516/NEON_D07_MLBS_DP1_20170805_181807_reflectance.h5\n",
      "NEON_D07_MLBS_DP1_20170805_182451_reflectance.h5\n",
      "https://storage.googleapis.com/neon-aop-products/2017/FullSite/D07/2017_MLBS_2/L1/Spectrometer/ReflectanceH5/2017080516/NEON_D07_MLBS_DP1_20170805_182451_reflectance.h5\n",
      "NEON_D07_MLBS_DP1_20170805_194936_reflectance.h5\n",
      "https://storage.googleapis.com/neon-aop-products/2017/FullSite/D07/2017_MLBS_2/L1/Spectrometer/ReflectanceH5/2017080516/NEON_D07_MLBS_DP1_20170805_194936_reflectance.h5\n",
      "NEON_D07_MLBS_DP1_20170805_183147_reflectance.h5\n",
      "https://storage.googleapis.com/neon-aop-products/2017/FullSite/D07/2017_MLBS_2/L1/Spectrometer/ReflectanceH5/2017080516/NEON_D07_MLBS_DP1_20170805_183147_reflectance.h5\n",
      "NEON_D07_MLBS_DP1_20170805_190655_reflectance.h5\n",
      "https://storage.googleapis.com/neon-aop-products/2017/FullSite/D07/2017_MLBS_2/L1/Spectrometer/ReflectanceH5/2017080516/NEON_D07_MLBS_DP1_20170805_190655_reflectance.h5\n",
      "NEON_D07_MLBS_DP1_20170805_185806_reflectance.h5\n",
      "https://storage.googleapis.com/neon-aop-products/2017/FullSite/D07/2017_MLBS_2/L1/Spectrometer/ReflectanceH5/2017080516/NEON_D07_MLBS_DP1_20170805_185806_reflectance.h5\n",
      "NEON_D07_MLBS_DP1_20170805_185153_reflectance.h5\n",
      "https://storage.googleapis.com/neon-aop-products/2017/FullSite/D07/2017_MLBS_2/L1/Spectrometer/ReflectanceH5/2017080516/NEON_D07_MLBS_DP1_20170805_185153_reflectance.h5\n",
      "NEON_D07_MLBS_DP1_20170805_201840_reflectance.h5\n",
      "https://storage.googleapis.com/neon-aop-products/2017/FullSite/D07/2017_MLBS_2/L1/Spectrometer/ReflectanceH5/2017080516/NEON_D07_MLBS_DP1_20170805_201840_reflectance.h5\n",
      "NEON_D07_MLBS_DP1_20170805_203222_reflectance.h5\n",
      "https://storage.googleapis.com/neon-aop-products/2017/FullSite/D07/2017_MLBS_2/L1/Spectrometer/ReflectanceH5/2017080516/NEON_D07_MLBS_DP1_20170805_203222_reflectance.h5\n",
      "NEON_D07_MLBS_DP1_20170805_201135_reflectance.h5\n",
      "https://storage.googleapis.com/neon-aop-products/2017/FullSite/D07/2017_MLBS_2/L1/Spectrometer/ReflectanceH5/2017080516/NEON_D07_MLBS_DP1_20170805_201135_reflectance.h5\n",
      "NEON_D07_MLBS_DP1_20170805_192039_reflectance.h5\n",
      "https://storage.googleapis.com/neon-aop-products/2017/FullSite/D07/2017_MLBS_2/L1/Spectrometer/ReflectanceH5/2017080516/NEON_D07_MLBS_DP1_20170805_192039_reflectance.h5\n"
     ]
    }
   ],
   "source": [
    "for file in data_json['data']['files']:\n",
    "    if '.h5' in file['name']: ########change '.NEF' to file extension you want\n",
    "        print(file['name'])\n",
    "        print(file['url'])\n",
    "\n",
    "#######now you have all the links for the available data"
   ]
  },
  {
   "cell_type": "code",
   "execution_count": null,
   "id": "63c684dc-e2d2-4477-832d-d455dfbfde54",
   "metadata": {},
   "outputs": [],
   "source": []
  }
 ],
 "metadata": {
  "kernelspec": {
   "display_name": "Python 3 (ipykernel)",
   "language": "python",
   "name": "python3"
  },
  "language_info": {
   "codemirror_mode": {
    "name": "ipython",
    "version": 3
   },
   "file_extension": ".py",
   "mimetype": "text/x-python",
   "name": "python",
   "nbconvert_exporter": "python",
   "pygments_lexer": "ipython3",
   "version": "3.9.16"
  }
 },
 "nbformat": 4,
 "nbformat_minor": 5
}
