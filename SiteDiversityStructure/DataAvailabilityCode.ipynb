{
 "cells": [
  {
   "cell_type": "code",
   "execution_count": null,
   "id": "df7d2c22-d975-44a6-9a2c-4e4a4cb6073b",
   "metadata": {},
   "outputs": [],
   "source": [
    "import os\n",
    "import requests\n",
    "import json\n",
    "import itertools"
   ]
  },
  {
   "cell_type": "code",
   "execution_count": null,
   "id": "dc5d28a3-cd1b-4bfb-99b2-c7d884de3c35",
   "metadata": {},
   "outputs": [],
   "source": [
    "SERVER = 'http://data.neonscience.org/api/v0/'###where the data is housed"
   ]
  },
  {
   "cell_type": "code",
   "execution_count": null,
   "id": "39beb46a-90ef-4325-90f3-76ee321bf9b5",
   "metadata": {},
   "outputs": [],
   "source": [
    "MLBSData = 'MLBS' ### Site name (Change to site you want)"
   ]
  },
  {
   "cell_type": "code",
   "execution_count": null,
   "id": "1337d8b3-b0f4-4bfb-bff3-dd5f4d9fffb5",
   "metadata": {},
   "outputs": [],
   "source": [
    "url = SERVER+'sites/'+MLBSData ### getting the URL\n",
    "print(url)"
   ]
  },
  {
   "cell_type": "code",
   "execution_count": null,
   "id": "96e40b8c-0b40-4329-a0bc-0902f289e890",
   "metadata": {},
   "outputs": [],
   "source": [
    "#Request the url\n",
    "site_request = requests.get(url)\n",
    "\n",
    "#Convert the request to Python JSON object\n",
    "site_json = site_request.json()"
   ]
  },
  {
   "cell_type": "code",
   "execution_count": null,
   "id": "adda47ef-821f-4a88-8d38-6f471862bcc9",
   "metadata": {},
   "outputs": [],
   "source": [
    "site_json.keys() ###shows what data is available in folder"
   ]
  },
  {
   "cell_type": "code",
   "execution_count": null,
   "id": "0b4a2daa-dd10-4ee8-803c-02af33dddc95",
   "metadata": {},
   "outputs": [],
   "source": [
    "site_json['data'].keys() #### available data in keys"
   ]
  },
  {
   "cell_type": "code",
   "execution_count": null,
   "id": "886f9338-17ec-4ed2-9276-296825789975",
   "metadata": {
    "scrolled": true
   },
   "outputs": [],
   "source": [
    "#View product code and name for every available data product\n",
    "for product in site_json['data']['dataProducts']:\n",
    "    print(product['dataProductCode'],product['dataProductTitle'])"
   ]
  },
  {
   "cell_type": "code",
   "execution_count": null,
   "id": "0b742831-b7ae-4b98-b86a-16d8e1e0f4cc",
   "metadata": {},
   "outputs": [],
   "source": [
    "EcosystemStructure = 'DP3.30026.001'\n",
    "NeonVegetationStructure = 'DP1.10098.001'\n",
    "NeonLiDAR='DP1.30003.001'\n",
    "Potential_hyperspec = 'DP1.30006.001'\n",
    "HemisphericPhotos = 'DP1.10017.001'"
   ]
  },
  {
   "cell_type": "code",
   "execution_count": null,
   "id": "9463f2d6-e181-452c-9451-344dffd40ce5",
   "metadata": {},
   "outputs": [],
   "source": [
    "#######gives you available months for the data\n",
    "\n",
    "for product in site_json['data']['dataProducts']: \n",
    "    #if a list item's 'dataProductCode' dict element equals the product code string\n",
    "    if(product['dataProductCode'] == HemisphericPhotos): ########## change this to what data we want\n",
    "        #print the available months\n",
    "        print('Available Months: ',product['availableMonths'])\n",
    "        print('URLs for each Month:')\n",
    "        #print the available URLs\n",
    "        for url in product['availableDataUrls']:\n",
    "            print(url)\n",
    "            data_url=url"
   ]
  },
  {
   "cell_type": "code",
   "execution_count": null,
   "id": "be4fc044-3cec-424a-82bc-6fdad3849a1c",
   "metadata": {},
   "outputs": [],
   "source": [
    "#Make request\n",
    "product_request = requests.get(SERVER+'products/'+HemisphericPhotos)######### change this to data product\n",
    "product_json = product_request.json()\n",
    "print(SERVER+'products/'+HemisphericPhotos)######## change this to data product"
   ]
  },
  {
   "cell_type": "code",
   "execution_count": null,
   "id": "c59e8808-a8b5-4913-8363-8d1afe696474",
   "metadata": {},
   "outputs": [],
   "source": [
    "print(product_json['data']['productCode'])\n",
    "print(product_json['data']['productName'],'\\n')\n",
    "print(product_json['data']['productAbstract'])"
   ]
  },
  {
   "cell_type": "code",
   "execution_count": null,
   "id": "ae61d07a-709a-4fc9-9242-a8f9fa83bd87",
   "metadata": {},
   "outputs": [],
   "source": [
    "#Make Request\n",
    "data_request = requests.get(SERVER+'data/'+HemisphericPhotos+'/'+MLBSData+'/'+'2021-10')######change data product and date\n",
    "print(str(data_request))\n",
    "data_json = data_request.json()\n",
    "print(SERVER+'data/'+HemisphericPhotos+'/'+MLBSData+'/'+'2021-10')######change data product and date"
   ]
  },
  {
   "cell_type": "code",
   "execution_count": null,
   "id": "f2704a96-9449-4188-8640-8b10ffcd6767",
   "metadata": {},
   "outputs": [],
   "source": [
    "#Make request with saved url\n",
    "#data_request = requests.get(data_url)\n",
    "#data_json = data_request.json()"
   ]
  },
  {
   "cell_type": "code",
   "execution_count": null,
   "id": "62d2bcf3-ce10-4178-a9ff-874f5186dc91",
   "metadata": {},
   "outputs": [],
   "source": [
    "print(data_json['data'].keys())"
   ]
  },
  {
   "cell_type": "code",
   "execution_count": null,
   "id": "e09eacba-6071-4dc7-b102-e35175248fb4",
   "metadata": {},
   "outputs": [],
   "source": [
    "####### displays all files in data product\n",
    "for file in data_json['data']['files']:\n",
    "    print(file['name'])"
   ]
  },
  {
   "cell_type": "code",
   "execution_count": null,
   "id": "1e058ce8-ed2c-4a6c-8f21-c2633db6118d",
   "metadata": {},
   "outputs": [],
   "source": [
    "for file in data_json['data']['files']:\n",
    "    if '.NEF' in file['name']: ########change '.NEF' to file extension you want\n",
    "        print(file['name'])\n",
    "        print(file['url'])\n",
    "\n",
    "#######now you have all the links for the available data"
   ]
  }
 ],
 "metadata": {
  "kernelspec": {
   "display_name": "Python 3 (ipykernel)",
   "language": "python",
   "name": "python3"
  },
  "language_info": {
   "codemirror_mode": {
    "name": "ipython",
    "version": 3
   },
   "file_extension": ".py",
   "mimetype": "text/x-python",
   "name": "python",
   "nbconvert_exporter": "python",
   "pygments_lexer": "ipython3",
   "version": "3.11.4"
  }
 },
 "nbformat": 4,
 "nbformat_minor": 5
}
