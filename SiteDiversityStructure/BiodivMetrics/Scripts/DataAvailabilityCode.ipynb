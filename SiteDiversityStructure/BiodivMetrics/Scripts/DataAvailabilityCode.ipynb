{
 "cells": [
  {
   "cell_type": "code",
   "execution_count": null,
   "id": "b0211cf4",
   "metadata": {},
   "outputs": [],
   "source": [
    "import os\n",
    "import requests\n",
    "import json\n",
    "import itertools"
   ]
  },
  {
   "cell_type": "markdown",
   "id": "538bd5d4",
   "metadata": {},
   "source": [
    "## Used Neon Tutorial to create this script. Info can be found here:\n",
    "https://www.neonscience.org/resources/learning-hub/tutorials/neon-utilities-python"
   ]
  },
  {
   "cell_type": "code",
   "execution_count": null,
   "id": "07d82149",
   "metadata": {},
   "outputs": [],
   "source": [
    "SERVER = 'http://data.neonscience.org/api/v0/'###where the data is housed"
   ]
  },
  {
   "cell_type": "code",
   "execution_count": null,
   "id": "9b3aee94",
   "metadata": {},
   "outputs": [],
   "source": [
    "MLBSData = 'MLBS' ### Site name (Change to site you want)"
   ]
  },
  {
   "cell_type": "code",
   "execution_count": null,
   "id": "25376aee",
   "metadata": {},
   "outputs": [],
   "source": [
    "url = SERVER+'sites/'+MLBSData ### getting the URL\n",
    "print(url)"
   ]
  },
  {
   "cell_type": "code",
   "execution_count": null,
   "id": "07f1de0d",
   "metadata": {},
   "outputs": [],
   "source": [
    "#Request the url\n",
    "site_request = requests.get(url)\n",
    "\n",
    "#Convert the request to Python JSON object\n",
    "site_json = site_request.json()"
   ]
  },
  {
   "cell_type": "code",
   "execution_count": null,
   "id": "36fa1889",
   "metadata": {},
   "outputs": [],
   "source": [
    "site_json.keys() ###shows what data is available in folder"
   ]
  },
  {
   "cell_type": "code",
   "execution_count": null,
   "id": "827c2005",
   "metadata": {},
   "outputs": [],
   "source": [
    "site_json['data'].keys() #### available data in keys"
   ]
  },
  {
   "cell_type": "code",
   "execution_count": null,
   "id": "166402ee",
   "metadata": {
    "scrolled": true
   },
   "outputs": [],
   "source": [
    "#View product code and name for every available data product\n",
    "for product in site_json['data']['dataProducts']:\n",
    "    print(product['dataProductCode'],product['dataProductTitle'])"
   ]
  },
  {
   "cell_type": "code",
   "execution_count": null,
   "id": "91074a1d",
   "metadata": {},
   "outputs": [],
   "source": [
    "EcosystemStructure = 'DP3.30026.001'\n",
    "NeonVegetationStructure = 'DP1.10098.001'\n",
    "NeonLiDAR='DP1.30003.001'\n",
    "Potential_hyperspec = 'DP1.30006.001'\n",
    "HemisphericPhotos = 'DP1.10017.001'"
   ]
  },
  {
   "cell_type": "code",
   "execution_count": null,
   "id": "dd3a57c4",
   "metadata": {},
   "outputs": [],
   "source": [
    "#######gives you available months for the data\n",
    "\n",
    "for product in site_json['data']['dataProducts']: \n",
    "    #if a list item's 'dataProductCode' dict element equals the product code string\n",
    "    if(product['dataProductCode'] == HemisphericPhotos): ########## change this to what data we want\n",
    "        #print the available months\n",
    "        print('Available Months: ',product['availableMonths'])\n",
    "        print('URLs for each Month:')\n",
    "        #print the available URLs\n",
    "        for url in product['availableDataUrls']:\n",
    "            print(url)\n",
    "            data_url=url"
   ]
  },
  {
   "cell_type": "code",
   "execution_count": null,
   "id": "432808da",
   "metadata": {},
   "outputs": [],
   "source": [
    "#Make request\n",
    "product_request = requests.get(SERVER+'products/'+HemisphericPhotos)######### change this to data product\n",
    "product_json = product_request.json()\n",
    "print(SERVER+'products/'+HemisphericPhotos)######## change this to data product"
   ]
  },
  {
   "cell_type": "code",
   "execution_count": null,
   "id": "bf176616",
   "metadata": {},
   "outputs": [],
   "source": [
    "print(product_json['data']['productCode'])\n",
    "print(product_json['data']['productName'],'\\n')\n",
    "print(product_json['data']['productAbstract'])"
   ]
  },
  {
   "cell_type": "code",
   "execution_count": null,
   "id": "779a9867",
   "metadata": {},
   "outputs": [],
   "source": [
    "#Make Request\n",
    "data_request = requests.get(SERVER+'data/'+HemisphericPhotos+'/'+MLBSData+'/'+'2021-10')######change data product and date\n",
    "print(str(data_request))\n",
    "data_json = data_request.json()\n",
    "print(SERVER+'data/'+HemisphericPhotos+'/'+MLBSData+'/'+'2021-10')######change data product and date"
   ]
  },
  {
   "cell_type": "code",
   "execution_count": null,
   "id": "2fd0fd2f",
   "metadata": {},
   "outputs": [],
   "source": [
    "#Make request with saved url\n",
    "#data_request = requests.get(data_url)\n",
    "#data_json = data_request.json()"
   ]
  },
  {
   "cell_type": "code",
   "execution_count": null,
   "id": "8996b848",
   "metadata": {},
   "outputs": [],
   "source": [
    "print(data_json['data'].keys())"
   ]
  },
  {
   "cell_type": "code",
   "execution_count": null,
   "id": "672d07bf",
   "metadata": {},
   "outputs": [],
   "source": [
    "####### displays all files in data product\n",
    "for file in data_json['data']['files']:\n",
    "    print(file['name'])"
   ]
  },
  {
   "cell_type": "code",
   "execution_count": null,
   "id": "f0c162ba",
   "metadata": {},
   "outputs": [],
   "source": [
    "for file in data_json['data']['files']:\n",
    "    if '.NEF' in file['name']: ########change '.NEF' to file extension you want\n",
    "        print(file['name'])\n",
    "        print(file['url'])\n",
    "\n",
    "#######now you have all the links for the available data"
   ]
  }
 ],
 "metadata": {
  "kernelspec": {
   "display_name": "Python 3 (ipykernel)",
   "language": "python",
   "name": "python3"
  },
  "language_info": {
   "codemirror_mode": {
    "name": "ipython",
    "version": 3
   },
   "file_extension": ".py",
   "mimetype": "text/x-python",
   "name": "python",
   "nbconvert_exporter": "python",
   "pygments_lexer": "ipython3",
   "version": "3.8.16"
  }
 },
 "nbformat": 4,
 "nbformat_minor": 5
}
