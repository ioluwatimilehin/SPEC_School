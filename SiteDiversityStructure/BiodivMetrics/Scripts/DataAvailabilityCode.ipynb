{
 "cells": [
  {
   "cell_type": "code",
   "execution_count": 1,
   "id": "6435f2d7",
   "metadata": {},
   "outputs": [],
   "source": [
    "import os\n",
    "import requests\n",
    "import json\n",
    "import itertools"
   ]
  },
  {
   "cell_type": "markdown",
   "id": "9a870115",
   "metadata": {},
   "source": [
    "## Used Neon Tutorial to create this script. Info can be found here:\n",
    "https://www.neonscience.org/resources/learning-hub/tutorials/neon-utilities-python"
   ]
  },
  {
   "cell_type": "code",
   "execution_count": 2,
   "id": "82a65f38",
   "metadata": {},
   "outputs": [],
   "source": [
    "SERVER = 'http://data.neonscience.org/api/v0/'###where the data is housed"
   ]
  },
  {
   "cell_type": "code",
   "execution_count": 3,
   "id": "63099043",
   "metadata": {},
   "outputs": [],
   "source": [
    "BARRData = 'BARR' ### Site name (Change to site you want)\n",
    "MLBSDATA ='MLBS'\n",
    "KansasData = 'KONA'"
   ]
  },
  {
   "cell_type": "code",
   "execution_count": 6,
   "id": "15c935a4",
   "metadata": {},
   "outputs": [
    {
     "name": "stdout",
     "output_type": "stream",
     "text": [
      "Available Months:  ['2017-07', '2018-07', '2019-07']\n",
      "URLs for each Month:\n",
      "https://data.neonscience.org/api/v0/data/DP1.30006.001/BARR/2017-07\n",
      "https://data.neonscience.org/api/v0/data/DP1.30006.001/BARR/2018-07\n",
      "https://data.neonscience.org/api/v0/data/DP1.30006.001/BARR/2019-07\n"
     ]
    }
   ],
   "source": [
    "def dataAvailability(site,dataProduct):\n",
    "    SERVER = 'http://data.neonscience.org/api/v0/'\n",
    "    url = SERVER+'sites/'+site ### getting the URL\n",
    "    #Request the url\n",
    "    site_request = requests.get(url)\n",
    "\n",
    "    #Convert the request to Python JSON object\n",
    "    site_json = site_request.json()\n",
    "    \n",
    "    site_json.keys() ###shows what data is available in folder\n",
    "    site_json['data'].keys() #### available data in keys\n",
    "    for product in site_json['data']['dataProducts']: \n",
    "    #if a list item's 'dataProductCode' dict element equals the product code string\n",
    "        if(product['dataProductCode'] == dataProduct): ########## change this to what data we want\n",
    "            #print the available months\n",
    "            print('Available Months: ',product['availableMonths'])\n",
    "            print('URLs for each Month:')\n",
    "            #print the available URLs\n",
    "            for url in product['availableDataUrls']:\n",
    "                print(url)\n",
    "                data_url=url\n",
    "\n",
    "\n",
    "\n",
    "\n"
   ]
  },
  {
   "cell_type": "code",
   "execution_count": 69,
   "id": "84023764",
   "metadata": {},
   "outputs": [],
   "source": [
    "dataAvailability('TOOL','DP1.10098.001')"
   ]
  },
  {
   "cell_type": "code",
   "execution_count": null,
   "id": "f8a8b861",
   "metadata": {},
   "outputs": [],
   "source": [
    "url = SERVER+'sites/'+MLBSDATA ### getting the URL\n",
    "print(url)"
   ]
  },
  {
   "cell_type": "code",
   "execution_count": 11,
   "id": "22a464bc",
   "metadata": {},
   "outputs": [],
   "source": [
    "#Request the url\n",
    "site_request = requests.get(url)\n",
    "\n",
    "#Convert the request to Python JSON object\n",
    "site_json = site_request.json()"
   ]
  },
  {
   "cell_type": "code",
   "execution_count": 12,
   "id": "4d4b974f",
   "metadata": {},
   "outputs": [
    {
     "data": {
      "text/plain": [
       "dict_keys(['data'])"
      ]
     },
     "execution_count": 12,
     "metadata": {},
     "output_type": "execute_result"
    }
   ],
   "source": [
    "site_json.keys() ###shows what data is available in folder"
   ]
  },
  {
   "cell_type": "code",
   "execution_count": 13,
   "id": "2c901572",
   "metadata": {},
   "outputs": [
    {
     "data": {
      "text/plain": [
       "dict_keys(['siteCode', 'siteName', 'siteDescription', 'siteType', 'siteLatitude', 'siteLongitude', 'stateCode', 'stateName', 'domainCode', 'domainName', 'deimsId', 'releases', 'dataProducts'])"
      ]
     },
     "execution_count": 13,
     "metadata": {},
     "output_type": "execute_result"
    }
   ],
   "source": [
    "site_json['data'].keys() #### available data in keys"
   ]
  },
  {
   "cell_type": "code",
   "execution_count": 14,
   "id": "b4948eb3",
   "metadata": {
    "scrolled": true
   },
   "outputs": [
    {
     "name": "stdout",
     "output_type": "stream",
     "text": [
      "DP1.00001.001 2D wind speed and direction\n",
      "DP1.00002.001 Single aspirated air temperature\n",
      "DP1.00003.001 Triple aspirated air temperature\n",
      "DP1.00004.001 Barometric pressure\n",
      "DP1.00005.001 IR biological temperature\n",
      "DP1.00006.001 Precipitation\n",
      "DP1.00013.001 Wet deposition chemical analysis\n",
      "DP1.00014.001 Shortwave radiation (direct and diffuse pyranometer)\n",
      "DP1.00023.001 Shortwave and longwave radiation (net radiometer)\n",
      "DP1.00024.001 Photosynthetically active radiation (PAR)\n",
      "DP1.00033.001 Phenology images\n",
      "DP1.00038.001 Stable isotopes in precipitation\n",
      "DP1.00040.001 Soil heat flux plate\n",
      "DP1.00041.001 Soil temperature\n",
      "DP1.00042.001 Snow depth and understory phenology images\n",
      "DP1.00043.001 Spectral sun photometer - calibrated sky radiances\n",
      "DP1.00066.001 Photosynthetically active radiation (quantum line)\n",
      "DP1.00094.001 Soil water content and water salinity\n",
      "DP1.00095.001 Soil CO2 concentration\n",
      "DP1.00096.001 Soil physical and chemical properties, Megapit\n",
      "DP1.00098.001 Relative humidity\n",
      "DP1.10003.001 Breeding landbird point counts\n",
      "DP1.10010.001 Coarse downed wood log survey\n",
      "DP1.10014.001 Coarse downed wood bulk density sampling\n",
      "DP1.10017.001 Digital hemispheric photos of plot vegetation\n",
      "DP1.10020.001 Ground beetle sequences DNA barcode\n",
      "DP1.10022.001 Ground beetles sampled from pitfall traps\n",
      "DP1.10023.001 Herbaceous clip harvest\n",
      "DP1.10026.001 Plant foliar traits\n",
      "DP1.10033.001 Litterfall and fine woody debris production and chemistry\n",
      "DP1.10038.001 Mosquito sequences DNA barcode\n",
      "DP1.10043.001 Mosquitoes sampled from CO2 traps\n",
      "DP1.10047.001 Soil physical and chemical properties, distributed initial characterization\n",
      "DP1.10055.001 Plant phenology observations\n",
      "DP1.10058.001 Plant presence and percent cover\n",
      "DP1.10064.001 Rodent pathogen status, hantavirus\n",
      "DP1.10064.002 Rodent pathogen status, tick-borne\n",
      "DP1.10066.001 Root biomass and chemistry, Megapit\n",
      "DP1.10067.001 Root biomass and chemistry, periodic\n",
      "DP1.10072.001 Small mammal box trapping\n",
      "DP1.10076.001 Small mammal sequences DNA barcode\n",
      "DP1.10081.001 Soil microbe community composition\n",
      "DP1.10086.001 Soil physical and chemical properties, periodic\n",
      "DP1.10092.001 Tick pathogen status\n",
      "DP1.10093.001 Ticks sampled using drag cloths\n",
      "DP1.10098.001 Vegetation structure\n",
      "DP1.10104.001 Soil microbe biomass\n",
      "DP1.10107.001 Soil microbe metagenome sequences\n",
      "DP1.10108.001 Soil microbe marker gene sequences\n",
      "DP1.10109.001 Soil microbe group abundances\n",
      "DP1.10111.001 Site management and event reporting\n",
      "DP1.30001.001 LiDAR slant range waveform\n",
      "DP1.30003.001 Discrete return LiDAR point cloud\n",
      "DP1.30006.001 Spectrometer orthorectified surface directional reflectance - flightline\n",
      "DP1.30008.001 Spectrometer orthrorectified at-sensor radiance - flightline\n",
      "DP1.30010.001 High-resolution orthorectified camera imagery\n",
      "DP2.30011.001 Albedo - spectrometer - flightline\n",
      "DP2.30012.001 LAI - spectrometer - flightline\n",
      "DP2.30014.001 fPAR - spectrometer - flightline\n",
      "DP2.30019.001 Canopy water indices - flightline\n",
      "DP2.30026.001 Vegetation indices - spectrometer - flightline\n",
      "DP3.30006.001 Spectrometer orthorectified surface directional reflectance - mosaic\n",
      "DP3.30010.001 High-resolution orthorectified camera imagery mosaic\n",
      "DP3.30011.001 Albedo - spectrometer - mosaic\n",
      "DP3.30012.001 LAI - spectrometer - mosaic\n",
      "DP3.30014.001 fPAR - spectrometer - mosaic\n",
      "DP3.30015.001 Ecosystem structure\n",
      "DP3.30019.001 Canopy water indices - mosaic\n",
      "DP3.30024.001 Elevation - LiDAR\n",
      "DP3.30025.001 Slope and Aspect - LiDAR\n",
      "DP3.30026.001 Vegetation indices - spectrometer - mosaic\n",
      "DP4.00200.001 Bundled data products - eddy covariance\n"
     ]
    }
   ],
   "source": [
    "#View product code and name for every available data product\n",
    "for product in site_json['data']['dataProducts']:\n",
    "    print(product['dataProductCode'],product['dataProductTitle'])"
   ]
  },
  {
   "cell_type": "code",
   "execution_count": 45,
   "id": "8330b281",
   "metadata": {},
   "outputs": [],
   "source": [
    "NeonVegetationStructure = 'DP1.10098.001'\n",
    "NeonLiDAR='DP1.30003.001'\n",
    "Potential_hyperspec = 'DP1.30006.001'\n",
    "PlantPresence = 'DP1.10058.001'"
   ]
  },
  {
   "cell_type": "code",
   "execution_count": 36,
   "id": "a26bbafd",
   "metadata": {},
   "outputs": [
    {
     "name": "stdout",
     "output_type": "stream",
     "text": [
      "Available Months:  ['2015-09', '2015-10', '2017-10', '2018-08', '2018-09', '2018-10', '2018-11', '2019-07', '2019-10', '2019-11', '2021-03', '2021-04', '2021-10', '2022-07', '2022-09', '2022-10', '2022-12']\n",
      "URLs for each Month:\n",
      "https://data.neonscience.org/api/v0/data/DP1.10098.001/MLBS/2015-09\n",
      "https://data.neonscience.org/api/v0/data/DP1.10098.001/MLBS/2015-10\n",
      "https://data.neonscience.org/api/v0/data/DP1.10098.001/MLBS/2017-10\n",
      "https://data.neonscience.org/api/v0/data/DP1.10098.001/MLBS/2018-08\n",
      "https://data.neonscience.org/api/v0/data/DP1.10098.001/MLBS/2018-09\n",
      "https://data.neonscience.org/api/v0/data/DP1.10098.001/MLBS/2018-10\n",
      "https://data.neonscience.org/api/v0/data/DP1.10098.001/MLBS/2018-11\n",
      "https://data.neonscience.org/api/v0/data/DP1.10098.001/MLBS/2019-07\n",
      "https://data.neonscience.org/api/v0/data/DP1.10098.001/MLBS/2019-10\n",
      "https://data.neonscience.org/api/v0/data/DP1.10098.001/MLBS/2019-11\n",
      "https://data.neonscience.org/api/v0/data/DP1.10098.001/MLBS/2021-03\n",
      "https://data.neonscience.org/api/v0/data/DP1.10098.001/MLBS/2021-04\n",
      "https://data.neonscience.org/api/v0/data/DP1.10098.001/MLBS/2021-10\n",
      "https://data.neonscience.org/api/v0/data/DP1.10098.001/MLBS/2022-07\n",
      "https://data.neonscience.org/api/v0/data/DP1.10098.001/MLBS/2022-09\n",
      "https://data.neonscience.org/api/v0/data/DP1.10098.001/MLBS/2022-10\n",
      "https://data.neonscience.org/api/v0/data/DP1.10098.001/MLBS/2022-12\n"
     ]
    }
   ],
   "source": [
    "#######gives you available months for the data\n",
    "\n",
    "for product in site_json['data']['dataProducts']: \n",
    "    #if a list item's 'dataProductCode' dict element equals the product code string\n",
    "    if(product['dataProductCode'] == NeonVegetationStructure): ########## change this to what data we want\n",
    "        #print the available months\n",
    "        print('Available Months: ',product['availableMonths'])\n",
    "        print('URLs for each Month:')\n",
    "        #print the available URLs\n",
    "        for url in product['availableDataUrls']:\n",
    "            print(url)\n",
    "            data_url=url"
   ]
  },
  {
   "cell_type": "code",
   "execution_count": 35,
   "id": "b47c556d",
   "metadata": {},
   "outputs": [
    {
     "name": "stdout",
     "output_type": "stream",
     "text": [
      "http://data.neonscience.org/api/v0/products/DP1.10098.001\n"
     ]
    }
   ],
   "source": [
    "#Make request\n",
    "product_request = requests.get(SERVER+'products/'+NeonVegetationStructure)######### change this to data product\n",
    "product_json = product_request.json()\n",
    "print(SERVER+'products/'+NeonVegetationStructure)######## change this to data product"
   ]
  },
  {
   "cell_type": "code",
   "execution_count": 19,
   "id": "7843f1b9",
   "metadata": {},
   "outputs": [
    {
     "name": "stdout",
     "output_type": "stream",
     "text": [
      "DP1.10098.001\n",
      "Vegetation structure \n",
      "\n",
      "This data product contains the quality-controlled, native sampling resolution data from in-situ measurements of live and standing dead woody individuals, shrub groups, and non-woody perennial plants from all terrestrial NEON sites with qualifying vegetation. The exact measurements collected per individual depend on growth form, and these measurements are focused on enabling biomass and productivity estimation, estimation of shrub volume and biomass, and calibration / validation of multiple NEON airborne remote-sensing data products. In general, comparatively large individuals that are visible to remote-sensing instruments are mapped, tagged, and measured, and other smaller and understory individuals are tagged and measured but not mapped. Structure and mapping data are reported per individual per plot. Smaller individuals may be subsampled using nested subplots in order to standardize the per plot sampling effort; total sampled area data reported in the vst_perplotperyear table are required to convert measurements made using nested subplots to the plot scale. For additional details, see the user guide, protocols, and science design listed in the Documentation section in this data product's details webpage.\n",
      "\n",
      "Latency:\n",
      "The expected time from data and/or sample collection in the field to data publication is as follows, for each of the data tables (in days) in the downloaded data package. See the Data Product User Guide for more information.\n",
      "\n",
      "vst_apparentindividual:  120\n",
      "\n",
      "vst_mappingandtagging:  120\n",
      "\n",
      "vst_perplotperyear:  180\n",
      "\n",
      "vst_shrubgroup:  120\n",
      "\n",
      "vst_non-woody: 90\n"
     ]
    }
   ],
   "source": [
    "print(product_json['data']['productCode'])\n",
    "print(product_json['data']['productName'],'\\n')\n",
    "print(product_json['data']['productAbstract'])"
   ]
  },
  {
   "cell_type": "code",
   "execution_count": 39,
   "id": "bed835a9",
   "metadata": {},
   "outputs": [
    {
     "name": "stdout",
     "output_type": "stream",
     "text": [
      "<Response [200]>\n",
      "http://data.neonscience.org/api/v0/data/DP1.10098.001/MLBS/2018-11\n"
     ]
    }
   ],
   "source": [
    "#Make Request\n",
    "data_request = requests.get(SERVER+'data/'+NeonVegetationStructure+'/'+MLBSDATA+'/'+'2018-11')######change data product and date\n",
    "print(str(data_request))\n",
    "data_json = data_request.json()\n",
    "print(SERVER+'data/'+NeonVegetationStructure+'/'+MLBSDATA+'/'+'2018-11')######change data product and date"
   ]
  },
  {
   "cell_type": "code",
   "execution_count": null,
   "id": "79cf42b6",
   "metadata": {},
   "outputs": [],
   "source": [
    "#Make request with saved url\n",
    "#data_request = requests.get(data_url)\n",
    "#data_json = data_request.json()"
   ]
  },
  {
   "cell_type": "code",
   "execution_count": 42,
   "id": "394eeab0",
   "metadata": {},
   "outputs": [
    {
     "name": "stdout",
     "output_type": "stream",
     "text": [
      "dict_keys(['productCode', 'siteCode', 'month', 'release', 'packages', 'files'])\n"
     ]
    }
   ],
   "source": [
    "print(data_json['data'].keys())"
   ]
  },
  {
   "cell_type": "code",
   "execution_count": 43,
   "id": "8607490e",
   "metadata": {},
   "outputs": [
    {
     "name": "stdout",
     "output_type": "stream",
     "text": [
      "NEON.D07.MLBS.DP1.10098.001.vst_mappingandtagging.basic.20230109T191823Z.csv\n",
      "NEON.D07.MLBS.DP1.10098.001.readme.20230127T120753Z.txt\n",
      "NEON.D07.MLBS.DP1.10098.001.EML.20181101-20181127.20230127T120753Z.xml\n",
      "NEON.D07.MLBS.DP1.10098.001.vst_apparentindividual.2018-11.basic.20230109T191823Z.csv\n",
      "NEON.D07.MLBS.DP0.10098.001.validation.20230109T191823Z.csv\n",
      "NEON.D07.MLBS.DP1.10098.001.variables.20230109T191823Z.csv\n",
      "NEON.D07.MLBS.DP0.10098.001.categoricalCodes.20230109T191823Z.csv\n",
      "NEON.D07.MLBS.DP1.10098.001.vst_perplotperyear.2018-11.basic.20230109T191823Z.csv\n"
     ]
    }
   ],
   "source": [
    "####### displays all files in data product\n",
    "for file in data_json['data']['files']:\n",
    "    print(file['name'])"
   ]
  },
  {
   "cell_type": "code",
   "execution_count": 44,
   "id": "00081290",
   "metadata": {},
   "outputs": [
    {
     "name": "stdout",
     "output_type": "stream",
     "text": [
      "NEON.D07.MLBS.DP1.10098.001.vst_mappingandtagging.basic.20230109T191823Z.csv\n",
      "https://storage.googleapis.com/neon-publication/NEON.DOM.SITE.DP1.10098.001/MLBS/20181101T000000--20181201T000000/basic/NEON.D07.MLBS.DP1.10098.001.vst_mappingandtagging.basic.20230109T191823Z.csv\n",
      "NEON.D07.MLBS.DP1.10098.001.vst_apparentindividual.2018-11.basic.20230109T191823Z.csv\n",
      "https://storage.googleapis.com/neon-publication/NEON.DOM.SITE.DP1.10098.001/MLBS/20181101T000000--20181201T000000/basic/NEON.D07.MLBS.DP1.10098.001.vst_apparentindividual.2018-11.basic.20230109T191823Z.csv\n",
      "NEON.D07.MLBS.DP0.10098.001.validation.20230109T191823Z.csv\n",
      "https://storage.googleapis.com/neon-publication/NEON.DOM.SITE.DP1.10098.001/MLBS/20181101T000000--20181201T000000/basic/NEON.D07.MLBS.DP0.10098.001.validation.20230109T191823Z.csv\n",
      "NEON.D07.MLBS.DP1.10098.001.variables.20230109T191823Z.csv\n",
      "https://storage.googleapis.com/neon-publication/NEON.DOM.SITE.DP1.10098.001/MLBS/20181101T000000--20181201T000000/basic/NEON.D07.MLBS.DP1.10098.001.variables.20230109T191823Z.csv\n",
      "NEON.D07.MLBS.DP0.10098.001.categoricalCodes.20230109T191823Z.csv\n",
      "https://storage.googleapis.com/neon-publication/NEON.DOM.SITE.DP1.10098.001/MLBS/20181101T000000--20181201T000000/basic/NEON.D07.MLBS.DP0.10098.001.categoricalCodes.20230109T191823Z.csv\n",
      "NEON.D07.MLBS.DP1.10098.001.vst_perplotperyear.2018-11.basic.20230109T191823Z.csv\n",
      "https://storage.googleapis.com/neon-publication/NEON.DOM.SITE.DP1.10098.001/MLBS/20181101T000000--20181201T000000/basic/NEON.D07.MLBS.DP1.10098.001.vst_perplotperyear.2018-11.basic.20230109T191823Z.csv\n"
     ]
    }
   ],
   "source": [
    "for file in data_json['data']['files']:\n",
    "    if 'csv' in file['name']: ########change '.NEF' to file extension you want\n",
    "        print(file['name'])\n",
    "        print(file['url'])\n",
    "\n",
    "#######now you have all the links for the available data"
   ]
  },
  {
   "cell_type": "code",
   "execution_count": null,
   "id": "e63ca999",
   "metadata": {},
   "outputs": [],
   "source": []
  }
 ],
 "metadata": {
  "kernelspec": {
   "display_name": "Python 3 (ipykernel)",
   "language": "python",
   "name": "python3"
  },
  "language_info": {
   "codemirror_mode": {
    "name": "ipython",
    "version": 3
   },
   "file_extension": ".py",
   "mimetype": "text/x-python",
   "name": "python",
   "nbconvert_exporter": "python",
   "pygments_lexer": "ipython3",
   "version": "3.8.16"
  }
 },
 "nbformat": 4,
 "nbformat_minor": 5
}
